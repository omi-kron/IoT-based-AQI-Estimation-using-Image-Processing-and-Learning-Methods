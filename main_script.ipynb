{
 "cells": [
  {
   "cell_type": "markdown",
   "metadata": {},
   "source": [
    "##  IoT-based AQI Estimation using Image Processing and Learning Methods"
   ]
  },
  {
   "cell_type": "markdown",
   "metadata": {},
   "source": [
    "Import the necessary libraries."
   ]
  },
  {
   "cell_type": "code",
   "execution_count": 36,
   "metadata": {},
   "outputs": [
    {
     "name": "stdout",
     "output_type": "stream",
     "text": [
      "The libraries are loaded.\n"
     ]
    }
   ],
   "source": [
    "import numpy as np\n",
    "import pandas as pd\n",
    "import matplotlib.pyplot as plt\n",
    "from sklearn.preprocessing import MinMaxScaler\n",
    "from sklearn.model_selection import train_test_split\n",
    "from sklearn.ensemble import RandomForestClassifier\n",
    "from sklearn.neighbors import KNeighborsClassifier\n",
    "from sklearn.neural_network import MLPClassifier\n",
    "from sklearn.metrics import classification_report\n",
    "from sklearn.metrics import accuracy_score\n",
    "from sklearn.svm import SVC\n",
    "from sklearn.model_selection import GridSearchCV\n",
    "from sklearn.ensemble import RandomForestClassifier\n",
    "from sklearn.metrics import classification_report, confusion_matrix, ConfusionMatrixDisplay\n",
    "\n",
    "\n",
    "print(\"The libraries are loaded.\")"
   ]
  },
  {
   "cell_type": "markdown",
   "metadata": {},
   "source": [
    "### Air Quality Index (AQI) Levels\n",
    "\n",
    "The Air Quality Index (AQI) is a measure used to communicate the air quality in a specific location. It provides information about the level of pollutants present in the air and their potential impact on human health.\n",
    "\n",
    "The AQI is typically categorized into several levels, each representing a different degree of air pollution. Here are the AQI levels and their corresponding descriptions:\n",
    "\n",
    "- **0: Good**: The air quality is considered good, and air pollution poses little or no risk to health.\n",
    "\n",
    "- **1: Satisfactory**: The air quality is acceptable; however, there may be a slight concern for some pollutants for a small number of people who are unusually sensitive to air pollution.\n",
    "\n",
    "- **2: Moderate**: The air quality may start to adversely affect the health of a larger group of people. Sensitive individuals should take precautions.\n",
    "\n",
    "- **3: Poor**: The air quality is considered unhealthy for sensitive groups such as children, the elderly, and individuals with respiratory or heart conditions.\n",
    "\n",
    "- **4: Severe**: The air quality is severely polluted and can have serious health effects on the general population. Everyone should take measures to protect their health.\n",
    "\n",
    "It's essential to stay informed about the AQI levels in your area, especially if you fall into a sensitive group. You can use the AQI values to make decisions about outdoor activities and take necessary precautions to reduce exposure to air pollution.\n",
    "\n",
    "Remember that the AQI is determined by various pollutants such as particulate matter 2.5 and 10, ozone, sulfur dioxide, nitrogen dioxide, and carbon monoxide. Different countries might have variations in how they calculate and report AQI values.\n"
   ]
  },
  {
   "cell_type": "code",
   "execution_count": 37,
   "metadata": {},
   "outputs": [],
   "source": [
    "AQI_DICT = {0:\"Good\", 1:\"Satisfactory\", 2:\"Moderate\", 3:\"Poor\", 4:\"Severe\"}"
   ]
  },
  {
   "cell_type": "code",
   "execution_count": 38,
   "metadata": {},
   "outputs": [],
   "source": [
    "def categorize_aqi(aqi_value):\n",
    "    if 0 <= aqi_value <= 50:\n",
    "        return 0\n",
    "    if 51 <= aqi_value <= 100:\n",
    "        return 1\n",
    "    if 101 <= aqi_value <= 200:\n",
    "        return 2\n",
    "    if 201 <= aqi_value <= 300:\n",
    "        return 3\n",
    "    if 301 <= aqi_value <= 400:\n",
    "        return 4\n",
    "    "
   ]
  },
  {
   "cell_type": "markdown",
   "metadata": {},
   "source": [
    "The dataset is stored in aqi.csv. To process the dataset, the dataset need to read using pandas library."
   ]
  },
  {
   "cell_type": "code",
   "execution_count": 39,
   "metadata": {},
   "outputs": [],
   "source": [
    "csv = \"aqi.csv\"\n",
    "data = pd.read_csv(csv)"
   ]
  },
  {
   "cell_type": "code",
   "execution_count": 40,
   "metadata": {},
   "outputs": [
    {
     "data": {
      "text/html": [
       "<div>\n",
       "<style scoped>\n",
       "    .dataframe tbody tr th:only-of-type {\n",
       "        vertical-align: middle;\n",
       "    }\n",
       "\n",
       "    .dataframe tbody tr th {\n",
       "        vertical-align: top;\n",
       "    }\n",
       "\n",
       "    .dataframe thead th {\n",
       "        text-align: right;\n",
       "    }\n",
       "</style>\n",
       "<table border=\"1\" class=\"dataframe\">\n",
       "  <thead>\n",
       "    <tr style=\"text-align: right;\">\n",
       "      <th></th>\n",
       "      <th>Unnamed: 0</th>\n",
       "      <th>Index</th>\n",
       "      <th>created_at</th>\n",
       "      <th>PM2.5(PMS)</th>\n",
       "      <th>PM10(PMS)</th>\n",
       "      <th>Temperature</th>\n",
       "      <th>Humidity</th>\n",
       "      <th>PM2.5(SDS)</th>\n",
       "      <th>PM10(SDS)</th>\n",
       "      <th>Image</th>\n",
       "      <th>...</th>\n",
       "      <th>PM2.5_SubIndex</th>\n",
       "      <th>PM10_SubIndex</th>\n",
       "      <th>Checks</th>\n",
       "      <th>AQI_calculated</th>\n",
       "      <th>AQI_bucket_calculated</th>\n",
       "      <th>aqi</th>\n",
       "      <th>aqi_cat</th>\n",
       "      <th>aqi_cat_2</th>\n",
       "      <th>Visibility_Score_Front</th>\n",
       "      <th>Visibility_Score_Rear</th>\n",
       "    </tr>\n",
       "  </thead>\n",
       "  <tbody>\n",
       "    <tr>\n",
       "      <th>0</th>\n",
       "      <td>1103</td>\n",
       "      <td>2.0</td>\n",
       "      <td>2022-10-22 18:00:00</td>\n",
       "      <td>64.0</td>\n",
       "      <td>78.0</td>\n",
       "      <td>26.95</td>\n",
       "      <td>43.451</td>\n",
       "      <td>34.5</td>\n",
       "      <td>76.2</td>\n",
       "      <td>1661.0</td>\n",
       "      <td>...</td>\n",
       "      <td>43.525000</td>\n",
       "      <td>41.0112</td>\n",
       "      <td>2.0</td>\n",
       "      <td>44.0</td>\n",
       "      <td>Good</td>\n",
       "      <td>43.525000</td>\n",
       "      <td>0</td>\n",
       "      <td>0.0</td>\n",
       "      <td>0.293951</td>\n",
       "      <td>0.265908</td>\n",
       "    </tr>\n",
       "    <tr>\n",
       "      <th>1</th>\n",
       "      <td>1104</td>\n",
       "      <td>3.0</td>\n",
       "      <td>2022-10-22 18:00:00</td>\n",
       "      <td>62.0</td>\n",
       "      <td>77.0</td>\n",
       "      <td>26.96</td>\n",
       "      <td>43.463</td>\n",
       "      <td>35.7</td>\n",
       "      <td>79.0</td>\n",
       "      <td>1662.0</td>\n",
       "      <td>...</td>\n",
       "      <td>44.705000</td>\n",
       "      <td>41.9240</td>\n",
       "      <td>2.0</td>\n",
       "      <td>45.0</td>\n",
       "      <td>Good</td>\n",
       "      <td>44.705000</td>\n",
       "      <td>0</td>\n",
       "      <td>0.0</td>\n",
       "      <td>0.274955</td>\n",
       "      <td>0.276226</td>\n",
       "    </tr>\n",
       "    <tr>\n",
       "      <th>2</th>\n",
       "      <td>1105</td>\n",
       "      <td>4.0</td>\n",
       "      <td>2022-10-22 18:00:00</td>\n",
       "      <td>62.0</td>\n",
       "      <td>77.0</td>\n",
       "      <td>26.98</td>\n",
       "      <td>43.566</td>\n",
       "      <td>35.7</td>\n",
       "      <td>77.3</td>\n",
       "      <td>1663.0</td>\n",
       "      <td>...</td>\n",
       "      <td>44.705000</td>\n",
       "      <td>41.3698</td>\n",
       "      <td>2.0</td>\n",
       "      <td>45.0</td>\n",
       "      <td>Good</td>\n",
       "      <td>44.705000</td>\n",
       "      <td>0</td>\n",
       "      <td>0.0</td>\n",
       "      <td>0.271433</td>\n",
       "      <td>0.272091</td>\n",
       "    </tr>\n",
       "    <tr>\n",
       "      <th>3</th>\n",
       "      <td>1106</td>\n",
       "      <td>5.0</td>\n",
       "      <td>2022-10-22 18:00:00</td>\n",
       "      <td>60.0</td>\n",
       "      <td>75.0</td>\n",
       "      <td>26.99</td>\n",
       "      <td>43.598</td>\n",
       "      <td>36.2</td>\n",
       "      <td>76.3</td>\n",
       "      <td>1664.0</td>\n",
       "      <td>...</td>\n",
       "      <td>45.196667</td>\n",
       "      <td>41.0438</td>\n",
       "      <td>2.0</td>\n",
       "      <td>45.0</td>\n",
       "      <td>Good</td>\n",
       "      <td>45.196667</td>\n",
       "      <td>0</td>\n",
       "      <td>0.0</td>\n",
       "      <td>0.266468</td>\n",
       "      <td>0.266174</td>\n",
       "    </tr>\n",
       "    <tr>\n",
       "      <th>4</th>\n",
       "      <td>1107</td>\n",
       "      <td>6.0</td>\n",
       "      <td>2022-10-22 18:00:00</td>\n",
       "      <td>58.0</td>\n",
       "      <td>75.0</td>\n",
       "      <td>26.96</td>\n",
       "      <td>43.676</td>\n",
       "      <td>35.8</td>\n",
       "      <td>73.7</td>\n",
       "      <td>1665.0</td>\n",
       "      <td>...</td>\n",
       "      <td>44.803333</td>\n",
       "      <td>40.1962</td>\n",
       "      <td>2.0</td>\n",
       "      <td>45.0</td>\n",
       "      <td>Good</td>\n",
       "      <td>44.803333</td>\n",
       "      <td>0</td>\n",
       "      <td>0.0</td>\n",
       "      <td>0.258207</td>\n",
       "      <td>0.264451</td>\n",
       "    </tr>\n",
       "    <tr>\n",
       "      <th>...</th>\n",
       "      <td>...</td>\n",
       "      <td>...</td>\n",
       "      <td>...</td>\n",
       "      <td>...</td>\n",
       "      <td>...</td>\n",
       "      <td>...</td>\n",
       "      <td>...</td>\n",
       "      <td>...</td>\n",
       "      <td>...</td>\n",
       "      <td>...</td>\n",
       "      <td>...</td>\n",
       "      <td>...</td>\n",
       "      <td>...</td>\n",
       "      <td>...</td>\n",
       "      <td>...</td>\n",
       "      <td>...</td>\n",
       "      <td>...</td>\n",
       "      <td>...</td>\n",
       "      <td>...</td>\n",
       "      <td>...</td>\n",
       "      <td>...</td>\n",
       "    </tr>\n",
       "    <tr>\n",
       "      <th>4413</th>\n",
       "      <td>18186</td>\n",
       "      <td>779.0</td>\n",
       "      <td>2023-02-08 17:59:00</td>\n",
       "      <td>174.0</td>\n",
       "      <td>184.0</td>\n",
       "      <td>32.89</td>\n",
       "      <td>35.751</td>\n",
       "      <td>76.4</td>\n",
       "      <td>125.4</td>\n",
       "      <td>32297.0</td>\n",
       "      <td>...</td>\n",
       "      <td>84.726667</td>\n",
       "      <td>57.0504</td>\n",
       "      <td>2.0</td>\n",
       "      <td>85.0</td>\n",
       "      <td>Satisfactory</td>\n",
       "      <td>84.726667</td>\n",
       "      <td>1</td>\n",
       "      <td>1.0</td>\n",
       "      <td>0.264258</td>\n",
       "      <td>0.322146</td>\n",
       "    </tr>\n",
       "    <tr>\n",
       "      <th>4414</th>\n",
       "      <td>18187</td>\n",
       "      <td>781.0</td>\n",
       "      <td>2023-02-08 18:00:00</td>\n",
       "      <td>104.0</td>\n",
       "      <td>117.0</td>\n",
       "      <td>32.89</td>\n",
       "      <td>35.947</td>\n",
       "      <td>55.0</td>\n",
       "      <td>110.9</td>\n",
       "      <td>32299.0</td>\n",
       "      <td>...</td>\n",
       "      <td>63.683333</td>\n",
       "      <td>52.3234</td>\n",
       "      <td>2.0</td>\n",
       "      <td>64.0</td>\n",
       "      <td>Satisfactory</td>\n",
       "      <td>63.683333</td>\n",
       "      <td>1</td>\n",
       "      <td>1.0</td>\n",
       "      <td>0.223957</td>\n",
       "      <td>0.318623</td>\n",
       "    </tr>\n",
       "    <tr>\n",
       "      <th>4415</th>\n",
       "      <td>18188</td>\n",
       "      <td>782.0</td>\n",
       "      <td>2023-02-08 18:00:00</td>\n",
       "      <td>115.0</td>\n",
       "      <td>130.0</td>\n",
       "      <td>32.88</td>\n",
       "      <td>35.875</td>\n",
       "      <td>54.9</td>\n",
       "      <td>107.7</td>\n",
       "      <td>32300.0</td>\n",
       "      <td>...</td>\n",
       "      <td>63.585000</td>\n",
       "      <td>51.2802</td>\n",
       "      <td>2.0</td>\n",
       "      <td>64.0</td>\n",
       "      <td>Satisfactory</td>\n",
       "      <td>63.585000</td>\n",
       "      <td>1</td>\n",
       "      <td>1.0</td>\n",
       "      <td>0.219855</td>\n",
       "      <td>0.306010</td>\n",
       "    </tr>\n",
       "    <tr>\n",
       "      <th>4416</th>\n",
       "      <td>18189</td>\n",
       "      <td>783.0</td>\n",
       "      <td>2023-02-08 18:00:00</td>\n",
       "      <td>106.0</td>\n",
       "      <td>121.0</td>\n",
       "      <td>32.88</td>\n",
       "      <td>35.979</td>\n",
       "      <td>57.4</td>\n",
       "      <td>110.0</td>\n",
       "      <td>32301.0</td>\n",
       "      <td>...</td>\n",
       "      <td>66.043333</td>\n",
       "      <td>52.0300</td>\n",
       "      <td>2.0</td>\n",
       "      <td>66.0</td>\n",
       "      <td>Satisfactory</td>\n",
       "      <td>66.043333</td>\n",
       "      <td>1</td>\n",
       "      <td>1.0</td>\n",
       "      <td>0.211664</td>\n",
       "      <td>0.295450</td>\n",
       "    </tr>\n",
       "    <tr>\n",
       "      <th>4417</th>\n",
       "      <td>18190</td>\n",
       "      <td>784.0</td>\n",
       "      <td>2023-02-08 18:00:00</td>\n",
       "      <td>92.0</td>\n",
       "      <td>101.0</td>\n",
       "      <td>32.86</td>\n",
       "      <td>36.038</td>\n",
       "      <td>64.2</td>\n",
       "      <td>122.0</td>\n",
       "      <td>32302.0</td>\n",
       "      <td>...</td>\n",
       "      <td>72.730000</td>\n",
       "      <td>55.9420</td>\n",
       "      <td>2.0</td>\n",
       "      <td>73.0</td>\n",
       "      <td>Satisfactory</td>\n",
       "      <td>72.730000</td>\n",
       "      <td>1</td>\n",
       "      <td>1.0</td>\n",
       "      <td>0.213395</td>\n",
       "      <td>0.308577</td>\n",
       "    </tr>\n",
       "  </tbody>\n",
       "</table>\n",
       "<p>4418 rows × 27 columns</p>\n",
       "</div>"
      ],
      "text/plain": [
       "      Unnamed: 0  Index           created_at  PM2.5(PMS)  PM10(PMS)  \\\n",
       "0           1103    2.0  2022-10-22 18:00:00        64.0       78.0   \n",
       "1           1104    3.0  2022-10-22 18:00:00        62.0       77.0   \n",
       "2           1105    4.0  2022-10-22 18:00:00        62.0       77.0   \n",
       "3           1106    5.0  2022-10-22 18:00:00        60.0       75.0   \n",
       "4           1107    6.0  2022-10-22 18:00:00        58.0       75.0   \n",
       "...          ...    ...                  ...         ...        ...   \n",
       "4413       18186  779.0  2023-02-08 17:59:00       174.0      184.0   \n",
       "4414       18187  781.0  2023-02-08 18:00:00       104.0      117.0   \n",
       "4415       18188  782.0  2023-02-08 18:00:00       115.0      130.0   \n",
       "4416       18189  783.0  2023-02-08 18:00:00       106.0      121.0   \n",
       "4417       18190  784.0  2023-02-08 18:00:00        92.0      101.0   \n",
       "\n",
       "      Temperature  Humidity  PM2.5(SDS)  PM10(SDS)    Image  ...  \\\n",
       "0           26.95    43.451        34.5       76.2   1661.0  ...   \n",
       "1           26.96    43.463        35.7       79.0   1662.0  ...   \n",
       "2           26.98    43.566        35.7       77.3   1663.0  ...   \n",
       "3           26.99    43.598        36.2       76.3   1664.0  ...   \n",
       "4           26.96    43.676        35.8       73.7   1665.0  ...   \n",
       "...           ...       ...         ...        ...      ...  ...   \n",
       "4413        32.89    35.751        76.4      125.4  32297.0  ...   \n",
       "4414        32.89    35.947        55.0      110.9  32299.0  ...   \n",
       "4415        32.88    35.875        54.9      107.7  32300.0  ...   \n",
       "4416        32.88    35.979        57.4      110.0  32301.0  ...   \n",
       "4417        32.86    36.038        64.2      122.0  32302.0  ...   \n",
       "\n",
       "      PM2.5_SubIndex  PM10_SubIndex  Checks  AQI_calculated  \\\n",
       "0          43.525000        41.0112     2.0            44.0   \n",
       "1          44.705000        41.9240     2.0            45.0   \n",
       "2          44.705000        41.3698     2.0            45.0   \n",
       "3          45.196667        41.0438     2.0            45.0   \n",
       "4          44.803333        40.1962     2.0            45.0   \n",
       "...              ...            ...     ...             ...   \n",
       "4413       84.726667        57.0504     2.0            85.0   \n",
       "4414       63.683333        52.3234     2.0            64.0   \n",
       "4415       63.585000        51.2802     2.0            64.0   \n",
       "4416       66.043333        52.0300     2.0            66.0   \n",
       "4417       72.730000        55.9420     2.0            73.0   \n",
       "\n",
       "      AQI_bucket_calculated        aqi  aqi_cat  aqi_cat_2  \\\n",
       "0                      Good  43.525000        0        0.0   \n",
       "1                      Good  44.705000        0        0.0   \n",
       "2                      Good  44.705000        0        0.0   \n",
       "3                      Good  45.196667        0        0.0   \n",
       "4                      Good  44.803333        0        0.0   \n",
       "...                     ...        ...      ...        ...   \n",
       "4413           Satisfactory  84.726667        1        1.0   \n",
       "4414           Satisfactory  63.683333        1        1.0   \n",
       "4415           Satisfactory  63.585000        1        1.0   \n",
       "4416           Satisfactory  66.043333        1        1.0   \n",
       "4417           Satisfactory  72.730000        1        1.0   \n",
       "\n",
       "      Visibility_Score_Front  Visibility_Score_Rear  \n",
       "0                   0.293951               0.265908  \n",
       "1                   0.274955               0.276226  \n",
       "2                   0.271433               0.272091  \n",
       "3                   0.266468               0.266174  \n",
       "4                   0.258207               0.264451  \n",
       "...                      ...                    ...  \n",
       "4413                0.264258               0.322146  \n",
       "4414                0.223957               0.318623  \n",
       "4415                0.219855               0.306010  \n",
       "4416                0.211664               0.295450  \n",
       "4417                0.213395               0.308577  \n",
       "\n",
       "[4418 rows x 27 columns]"
      ]
     },
     "execution_count": 40,
     "metadata": {},
     "output_type": "execute_result"
    }
   ],
   "source": [
    "data"
   ]
  },
  {
   "cell_type": "markdown",
   "metadata": {},
   "source": [
    "Datapoints disrtibution across vairous AQI categories."
   ]
  },
  {
   "cell_type": "code",
   "execution_count": 41,
   "metadata": {},
   "outputs": [
    {
     "data": {
      "image/png": "[encoded data removed]",
      "text/plain": [
       "<Figure size 640x480 with 1 Axes>"
      ]
     },
     "metadata": {},
     "output_type": "display_data"
    }
   ],
   "source": [
    "plt.hist(data[\"aqi_cat_2\"], histtype='bar', bins=5)\n",
    "plt.xlabel('AQI Category')\n",
    "plt.ylabel('Datapoints')\n",
    "plt.show()"
   ]
  },
  {
   "cell_type": "markdown",
   "metadata": {},
   "source": [
    "### Data Features and Labels\n",
    "\n",
    "In the data preprocessing step, we've extracted specific features from our dataset and assigned them to the `data_features` variable. Additionally, the corresponding labels have been stored in the `labels` variable. Here's what these variables represent:\n",
    "\n",
    "### Data Features\n",
    "\n",
    "The `data_features` DataFrame includes the following features extracted from your dataset:\n",
    "\n",
    "- `motorcycle`: Number of motorcycles present\n",
    "- `autorickshaw`: Number of autorickshaws present\n",
    "- `car`: Number of cars present\n",
    "- `truck`: Number of trucks present\n",
    "- `bus`: Number of buses present\n",
    "- `Temperature`: Temperature reading\n",
    "- `Humidity`: Humidity reading\n",
    "- `Visibility_Score_Front`: Visibility score from the front camera\n",
    "- `Visibility_Score_Rear`: Visibility score from the rear camera\n",
    "\n",
    "These features serve as input variables for your AQI estimation model.\n",
    "\n",
    "### Labels\n",
    "\n",
    "The `labels` Series contains the target labels for our AQI categories, denoted by the column `aqi_cat_2`. Each label corresponds to a specific air quality category, which your model aims to predict.\n",
    "\n",
    "This separation of features and labels is crucial for training and evaluating your machine learning model accurately.\n"
   ]
  },
  {
   "cell_type": "code",
   "execution_count": 42,
   "metadata": {},
   "outputs": [],
   "source": [
    "data_features = data[['motorcycle', 'autorickshaw', 'car', 'truck', 'bus', 'Temperature', 'Humidity', 'Visibility_Score_Front', \"Visibility_Score_Rear\"]].copy()\n",
    "labels = data[\"aqi_cat_2\"].copy()"
   ]
  },
  {
   "cell_type": "markdown",
   "metadata": {},
   "source": [
    "#### Conversion to NumPy Arrays\n",
    "\n",
    "To facilitate machine learning model training, you've converted the extracted data features and labels into NumPy arrays.\n",
    "\n",
    "#### Data Features (NumPy Array)\n",
    "\n",
    "The variable `data_feat_np` now contains the data features as a NumPy array. This array holds the values of the features extracted from your dataset, ready to be used as input for your machine learning algorithms.\n",
    "\n",
    "#### Labels (NumPy Array)\n",
    "\n",
    "The variable `labels_np` holds the labels as a NumPy integer array. These labels correspond to the air quality categories and are formatted as integers to be used during model training and evaluation.\n"
   ]
  },
  {
   "cell_type": "code",
   "execution_count": 43,
   "metadata": {},
   "outputs": [],
   "source": [
    "data_feat_np = data_features.values\n",
    "labels_np = labels.values.astype(int)"
   ]
  },
  {
   "cell_type": "markdown",
   "metadata": {},
   "source": [
    "The number of the datapoints we have in our dataset. "
   ]
  },
  {
   "cell_type": "code",
   "execution_count": 44,
   "metadata": {},
   "outputs": [
    {
     "name": "stdout",
     "output_type": "stream",
     "text": [
      "(4418, 9)\n",
      "(4418,)\n"
     ]
    }
   ],
   "source": [
    "print(data_feat_np.shape)\n",
    "print(labels.shape)"
   ]
  },
  {
   "cell_type": "markdown",
   "metadata": {},
   "source": [
    "#### Min-Max Scaling\n",
    "\n",
    "In this section, we'll cover the process of performing Min-Max scaling on the extracted data features to ensure consistent and normalized values for your machine learning model.\n",
    "\n",
    "Min-Max scaling transforms your features by scaling them to a specified range, often between 0 and 1. This is useful for algorithms sensitive to feature magnitudes. We'll use the `MinMaxScaler` from the `sklearn.preprocessing` module.\n"
   ]
  },
  {
   "cell_type": "code",
   "execution_count": 45,
   "metadata": {},
   "outputs": [],
   "source": [
    "min_max_scaler = MinMaxScaler()\n",
    "data_feat_np = min_max_scaler.fit_transform(data_feat_np)"
   ]
  },
  {
   "cell_type": "code",
   "execution_count": 46,
   "metadata": {},
   "outputs": [
    {
     "data": {
      "text/plain": [
       "array([[0.30769231, 0.07692308, 0.15      , ..., 0.78045057, 0.4585884 ,\n",
       "        0.40453897],\n",
       "       [0.19230769, 0.        , 0.25      , ..., 0.78085771, 0.36726228,\n",
       "        0.45920889],\n",
       "       [0.30769231, 0.07692308, 0.35      , ..., 0.78435231, 0.35032832,\n",
       "        0.43729952],\n",
       "       ...,\n",
       "       [0.11538462, 0.23076923, 0.5       , ..., 0.52341046, 0.1023606 ,\n",
       "        0.6170281 ],\n",
       "       [0.23076923, 0.23076923, 0.3       , ..., 0.526939  , 0.06298035,\n",
       "        0.56107238],\n",
       "       [0.15384615, 0.15384615, 0.45      , ..., 0.52894076, 0.07130467,\n",
       "        0.63063191]])"
      ]
     },
     "execution_count": 46,
     "metadata": {},
     "output_type": "execute_result"
    }
   ],
   "source": [
    "data_feat_np"
   ]
  },
  {
   "cell_type": "markdown",
   "metadata": {},
   "source": [
    "#### Train-Test Data Split\n",
    "\n",
    "In this section, we'll guide you through the essential step of splitting your data into training and testing sets. This separation is crucial for evaluating the performance of your machine learning model effectively.\n",
    "\n",
    "#### Train-Test Split\n",
    "\n",
    "The `train_test_split` function from the `sklearn.model_selection` module is used to split your data features and labels into separate training and testing sets. This helps you train your model on one subset and validate its performance on another independent subset."
   ]
  },
  {
   "cell_type": "code",
   "execution_count": 47,
   "metadata": {},
   "outputs": [
    {
     "name": "stdout",
     "output_type": "stream",
     "text": [
      "Train Data Shape (3534, 9)\n",
      "Test Data Shape (884, 9)\n"
     ]
    }
   ],
   "source": [
    "X_train, X_test, y_train, y_test = train_test_split(data_feat_np, labels, test_size=0.2, random_state=42)\n",
    "print(\"Train Data Shape\", X_train.shape)\n",
    "print(\"Test Data Shape\", X_test.shape)"
   ]
  },
  {
   "cell_type": "markdown",
   "metadata": {},
   "source": [
    "#### k-Nearest Neighbors Classifier\n",
    "\n",
    "In this section, we'll walk through the process of creating and evaluating a k-Nearest Neighbors (k-NN) classifier using the `KNeighborsClassifier` from scikit-learn.\n",
    "\n",
    "The k-Nearest Neighbors algorithm is a simple yet effective classification method that assigns a class label to a data point based on the majority class of its k nearest neighbors.\n"
   ]
  },
  {
   "cell_type": "code",
   "execution_count": 48,
   "metadata": {},
   "outputs": [
    {
     "name": "stdout",
     "output_type": "stream",
     "text": [
      "Accuracy of the k-Nearest Neighbors Classifier: 0.7149321266968326.\n"
     ]
    }
   ],
   "source": [
    "knn_model = KNeighborsClassifier()\n",
    "knn_model.fit(X_train, y_train)\n",
    "print(f\"Accuracy of the k-Nearest Neighbors Classifier: {knn_model.score(X_test, y_test)}.\")\n"
   ]
  },
  {
   "cell_type": "markdown",
   "metadata": {},
   "source": [
    "#### Multi-Layer Perceptron (MLP) Classifier\n",
    "\n",
    "In this section, we'll guide you through the process of creating a Multi-Layer Perceptron (MLP) classifier using the `MLPClassifier` from scikit-learn. We'll also demonstrate how to evaluate the classifier's performance using a classification report.\n",
    "\n",
    "The Multi-Layer Perceptron is a type of artificial neural network that is effective for a wide range of classification tasks. It consists of multiple layers of interconnected nodes, allowing it to capture complex relationships in data.\n"
   ]
  },
  {
   "cell_type": "code",
   "execution_count": 49,
   "metadata": {},
   "outputs": [
    {
     "name": "stdout",
     "output_type": "stream",
     "text": [
      "              precision    recall  f1-score   support\n",
      "\n",
      "        Good       0.67      0.27      0.38        75\n",
      "Satisfactory       0.75      0.95      0.84       628\n",
      "    Moderate       0.44      0.15      0.22       139\n",
      "        Poor       0.25      0.07      0.11        30\n",
      "      Severe       0.50      0.08      0.14        12\n",
      "\n",
      "    accuracy                           0.72       884\n",
      "   macro avg       0.52      0.30      0.34       884\n",
      "weighted avg       0.67      0.72      0.67       884\n",
      "\n"
     ]
    }
   ],
   "source": [
    "\n",
    "mlp = MLPClassifier(hidden_layer_sizes=(100, 50), max_iter=1000, learning_rate='adaptive')\n",
    "mlp.fit(X_train, y_train)\n",
    "y_pred = mlp.predict(X_test)\n",
    "target_names = ['Good', 'Satisfactory', 'Moderate', 'Poor', 'Severe']\n",
    "\n",
    "print(classification_report(y_test, y_pred, target_names=target_names))\n"
   ]
  },
  {
   "cell_type": "code",
   "execution_count": 50,
   "metadata": {},
   "outputs": [
    {
     "name": "stdout",
     "output_type": "stream",
     "text": [
      "Accuracy of Multi-Layer Perceptron (MLP) Classifier: 0.7228506787330317\n"
     ]
    }
   ],
   "source": [
    "# Make predictions on testing data\n",
    "y_pred = mlp.predict(X_test)\n",
    "\n",
    "# Calculate and print the accuracy\n",
    "accuracy = accuracy_score(y_test, y_pred)\n",
    "print(\"Accuracy of Multi-Layer Perceptron (MLP) Classifier:\", accuracy)"
   ]
  },
  {
   "cell_type": "markdown",
   "metadata": {},
   "source": [
    "#### Support Vector Machine (SVM) Classifier\n",
    "\n",
    "In this section, we'll guide you through the process of creating a Support Vector Machine (SVM) classifier using the `SVC` class from scikit-learn. We'll also demonstrate how to evaluate the classifier's performance using a classification report.\n",
    "\n",
    "The Support Vector Machine is a powerful classification algorithm that aims to find the optimal hyperplane that best separates classes. It is widely used for both binary and multi-class classification tasks.\n",
    "\n",
    "Here's how to create and evaluate an SVM classifier:"
   ]
  },
  {
   "cell_type": "code",
   "execution_count": 51,
   "metadata": {},
   "outputs": [
    {
     "name": "stdout",
     "output_type": "stream",
     "text": [
      "                     precision    recall  f1-score   support\n",
      "\n",
      "               Good       0.32      0.84      0.47        75\n",
      "       Satisfactory       0.86      0.46      0.60       628\n",
      "Moderately Polluted       0.24      0.35      0.28       139\n",
      "               Poor       0.11      0.37      0.17        30\n",
      "             Severe       0.08      0.33      0.13        12\n",
      "\n",
      "           accuracy                           0.47       884\n",
      "          macro avg       0.32      0.47      0.33       884\n",
      "       weighted avg       0.68      0.47      0.52       884\n",
      "\n"
     ]
    }
   ],
   "source": [
    "svm = SVC(C=10, class_weight='balanced')\n",
    "svm.fit(X_train, y_train)\n",
    "y_pred = svm.predict(X_test)\n",
    "target_names = ['Good', 'Satisfactory', 'Moderately Polluted', 'Poor', 'Severe']\n",
    "\n",
    "print(classification_report(y_test, y_pred, target_names=target_names))"
   ]
  },
  {
   "cell_type": "markdown",
   "metadata": {},
   "source": [
    "#### Evaluating Random Forest Classifier Performance\n",
    "\n",
    "In this section, we'll explore how to evaluate the performance of a trained Random Forest classifier using classification metrics and visualization techniques. We'll use the `classification_report` function to assess various metrics and the confusion matrix for a visual overview of results.\n",
    "\n",
    "The `classification_report` function from scikit-learn provides a detailed summary of classification metrics for each class in your dataset. This is immensely helpful in understanding how well your Random Forest classifier is performing.\n",
    "\n",
    "Here's how to evaluate the Random Forest classifier using `classification_report` Before Hyperparameter Tuning:"
   ]
  },
  {
   "cell_type": "code",
   "execution_count": 54,
   "metadata": {},
   "outputs": [
    {
     "name": "stdout",
     "output_type": "stream",
     "text": [
      "              precision    recall  f1-score   support\n",
      "\n",
      "        Good       0.94      0.43      0.59        75\n",
      "Satisfactory       0.80      0.97      0.88       628\n",
      "    Moderate       0.57      0.33      0.42       139\n",
      "        Poor       0.33      0.10      0.15        30\n",
      "      Severe       0.00      0.00      0.00        12\n",
      "\n",
      "    accuracy                           0.78       884\n",
      "   macro avg       0.53      0.37      0.41       884\n",
      "weighted avg       0.75      0.78      0.74       884\n",
      "\n"
     ]
    },
    {
     "name": "stderr",
     "output_type": "stream",
     "text": [
      "/home2/om.kathalkar/anaconda3/envs/new_env/lib/python3.9/site-packages/sklearn/metrics/_classification.py:1469: UndefinedMetricWarning: Precision and F-score are ill-defined and being set to 0.0 in labels with no predicted samples. Use `zero_division` parameter to control this behavior.\n",
      "  _warn_prf(average, modifier, msg_start, len(result))\n",
      "/home2/om.kathalkar/anaconda3/envs/new_env/lib/python3.9/site-packages/sklearn/metrics/_classification.py:1469: UndefinedMetricWarning: Precision and F-score are ill-defined and being set to 0.0 in labels with no predicted samples. Use `zero_division` parameter to control this behavior.\n",
      "  _warn_prf(average, modifier, msg_start, len(result))\n",
      "/home2/om.kathalkar/anaconda3/envs/new_env/lib/python3.9/site-packages/sklearn/metrics/_classification.py:1469: UndefinedMetricWarning: Precision and F-score are ill-defined and being set to 0.0 in labels with no predicted samples. Use `zero_division` parameter to control this behavior.\n",
      "  _warn_prf(average, modifier, msg_start, len(result))\n"
     ]
    },
    {
     "data": {
      "text/plain": [
       "<sklearn.metrics._plot.confusion_matrix.ConfusionMatrixDisplay at 0x149e04022190>"
      ]
     },
     "execution_count": 54,
     "metadata": {},
     "output_type": "execute_result"
    },
    {
     "data": {
      "image/png": "[encoded data removed]",
      "text/plain": [
       "<Figure size 640x480 with 2 Axes>"
      ]
     },
     "metadata": {},
     "output_type": "display_data"
    }
   ],
   "source": [
    "rf_model = RandomForestClassifier(random_state=42)\n",
    "\n",
    "rf_model.fit(X_train, y_train)\n",
    "\n",
    "y_pred = rf_model.predict(X_test)\n",
    "\n",
    "target_names = ['Good', 'Satisfactory', 'Moderate', 'Poor', 'Severe']\n",
    "\n",
    "report = classification_report(y_test, y_pred, target_names=target_names)\n",
    "print(report)\n",
    "cm = confusion_matrix(y_test, y_pred)\n",
    "\n",
    "disp = ConfusionMatrixDisplay(confusion_matrix=cm, display_labels=target_names)\n",
    "disp.plot(cmap='Blues')\n"
   ]
  },
  {
   "cell_type": "markdown",
   "metadata": {},
   "source": [
    "#### Hyperparameter Tuning for Random Forest Classifier\n",
    "\n",
    "In this section, we'll guide you through the process of hyperparameter tuning for a Random Forest classifier using `GridSearchCV` from scikit-learn. We'll also demonstrate how to evaluate the tuned classifier's performance using a classification report and a confusion matrix.\n",
    "\n",
    "Hyperparameter tuning is crucial for optimizing model performance. We'll use a Random Forest classifier as an example to showcase the process.\n",
    "\n",
    "Here's how to perform hyperparameter tuning and evaluate the tuned classifier:"
   ]
  },
  {
   "cell_type": "code",
   "execution_count": 55,
   "metadata": {},
   "outputs": [
    {
     "name": "stdout",
     "output_type": "stream",
     "text": [
      "              precision    recall  f1-score   support\n",
      "\n",
      "        Good       0.85      0.63      0.72        75\n",
      "Satisfactory       0.86      0.95      0.90       628\n",
      "    Moderate       0.60      0.52      0.56       139\n",
      "        Poor       0.33      0.13      0.19        30\n",
      "      Severe       1.00      0.25      0.40        12\n",
      "\n",
      "    accuracy                           0.81       884\n",
      "   macro avg       0.73      0.49      0.55       884\n",
      "weighted avg       0.80      0.81      0.80       884\n",
      "\n"
     ]
    },
    {
     "data": {
      "image/png": "[encoded data removed]",
      "text/plain": [
       "<Figure size 640x480 with 2 Axes>"
      ]
     },
     "metadata": {},
     "output_type": "display_data"
    }
   ],
   "source": [
    "\n",
    "# Define the parameter grid for hyperparameter tuning\n",
    "param_grid = {\n",
    "    'n_estimators': [100, 200, 500, 700],\n",
    "    'max_depth': [None, 15, 25],\n",
    "    'max_features': ['sqrt', 'log2', None],\n",
    "    'min_samples_split': [2, 5, 10],\n",
    "    'min_samples_leaf': [1, 2, 4]    \n",
    "}\n",
    "\n",
    "# Create a Random Forest classifier\n",
    "rf_model = RandomForestClassifier(random_state=42)\n",
    "\n",
    "# Create GridSearchCV instance for hyperparameter tuning\n",
    "grid_search = GridSearchCV(estimator=rf_model, param_grid=param_grid, cv=3, n_jobs=-1)\n",
    "\n",
    "# Perform hyperparameter tuning\n",
    "grid_search.fit(X_train, y_train)\n",
    "\n",
    "# Get the best model from the grid search\n",
    "best_rf_model = grid_search.best_estimator_\n",
    "\n",
    "# Predict on the test data\n",
    "y_pred = best_rf_model.predict(X_test)\n",
    "\n",
    "# Define target names for classification report\n",
    "target_names = ['Good', 'Satisfactory', 'Moderate', 'Poor', 'Severe']\n",
    "\n",
    "# Print classification report\n",
    "print(classification_report(y_test, y_pred, target_names=target_names))\n",
    "\n",
    "# Compute confusion matrix and display it\n",
    "cm = confusion_matrix(y_test, y_pred)\n",
    "disp = ConfusionMatrixDisplay(confusion_matrix=cm, display_labels=target_names)\n",
    "disp.plot(cmap='Blues')\n",
    "\n",
    "# Show the plot\n",
    "plt.show()\n"
   ]
  },
  {
   "cell_type": "code",
   "execution_count": null,
   "metadata": {},
   "outputs": [],
   "source": []
  }
 ],
 "metadata": {
  "kernelspec": {
   "display_name": "Python 3 (ipykernel)",
   "language": "python",
   "name": "python3"
  },
  "language_info": {
   "codemirror_mode": {
    "name": "ipython",
    "version": 3
   },
   "file_extension": ".py",
   "mimetype": "text/x-python",
   "name": "python",
   "nbconvert_exporter": "python",
   "pygments_lexer": "ipython3",
   "version": "3.9.17"
  }
 },
 "nbformat": 4,
 "nbformat_minor": 4
}
